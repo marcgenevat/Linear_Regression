{
 "metadata": {
  "name": ""
 },
 "nbformat": 3,
 "nbformat_minor": 0,
 "worksheets": [
  {
   "cells": [
    {
     "cell_type": "code",
     "collapsed": false,
     "input": [
      "import numpy as np\n",
      "from scipy.linalg import lstsq as theta_calc\n",
      "\n",
      "data = np.loadtxt('housing.data')"
     ],
     "language": "python",
     "metadata": {},
     "outputs": [],
     "prompt_number": 1
    },
    {
     "cell_type": "code",
     "collapsed": false,
     "input": [
      "# MSE Function\n",
      "def MSE(y,X,theta):\t\n",
      "\tMSE = float(sum((y-dot(X, theta))**2) / len(y))\n",
      "\treturn MSE"
     ],
     "language": "python",
     "metadata": {},
     "outputs": [],
     "prompt_number": 2
    },
    {
     "cell_type": "code",
     "collapsed": false,
     "input": [
      "# Slicing\n",
      "y = data[:,-1]  #Outputs (labels)\n",
      "half = len(y)/2\n",
      "\n",
      "# Shortcuts\n",
      "dot = np.dot\t#Multiplier\n",
      "inv = np.linalg.inv #Inversor\n",
      "\n",
      "# Dummy features\n",
      "Bias = np.ones((506,1))\t#Bias term vector"
     ],
     "language": "python",
     "metadata": {},
     "outputs": [],
     "prompt_number": 3
    },
    {
     "cell_type": "code",
     "collapsed": false,
     "input": [
      "# Fitting the parameters: theta = (X'*X)^-1*X'*y\n",
      "# Computing the average of the target value\n",
      "theta = dot(dot(inv(dot(Bias.T, Bias)), Bias.T), y)\n",
      "\n",
      "# MSE = (1/N)*sum((y-X*theta)^2)\n",
      "# Computing MSE obtained using it as a constant prediction\n",
      "print 'MSE as a constant prediction: ' , MSE(y,Bias,theta)"
     ],
     "language": "python",
     "metadata": {},
     "outputs": [
      {
       "output_type": "stream",
       "stream": "stdout",
       "text": [
        "MSE as a constant prediction:  84.4195561562\n"
       ]
      }
     ],
     "prompt_number": 4
    },
    {
     "cell_type": "code",
     "collapsed": false,
     "input": [
      "# Splitting data in 50/50 for training and testing\n",
      "print 'Splitting...'\n",
      "\n",
      "#Training \n",
      "data_train = data[:half,:-1]\t#Training features\n",
      "output_train = data[:half,-1]\t#Training labels\n",
      "\n",
      "#Testing\n",
      "data_test = data[half:,:-1]\t\t#Testing features\n",
      "output_test = data[half:,-1]\t#Testing labels"
     ],
     "language": "python",
     "metadata": {},
     "outputs": [
      {
       "output_type": "stream",
       "stream": "stdout",
       "text": [
        "Splitting...\n"
       ]
      }
     ],
     "prompt_number": 5
    },
    {
     "cell_type": "code",
     "collapsed": false,
     "input": [
      "# Training and testing a linear regressor model\n",
      "print '\\n\\nTraining and testing with each variable individually...'\n",
      "\n",
      "list_mse_train=[]\n",
      "list_theta=[]\n",
      "list_mse_test=[]\n",
      "for i in range(0,len(data[0])-1):\n",
      "    train_features = np.hstack((Bias[:half], data_train[:,i].reshape(half,1)))\t#Stack feature array (vector) with Bias term\n",
      "    test_features = np.hstack((Bias[:half], data_test[:,i].reshape(half,1)))\t#Stack feature array (vector) with Bias term\n",
      "    list_theta.append(theta_calc(train_features,output_train)[0])\t\t\t#Save every theta for each different feature\t\n",
      "    list_mse_train.append(MSE(output_train,train_features,list_theta[i]))\t\t#Save every MSE for each theta to a list\n",
      "    list_mse_test.append(MSE(output_test,test_features,list_theta[i]))\t#Save every MSE for each theta to a list\n",
      "\n",
      "# Answering the Q3's questions\n",
      "print '\\nThe variable %d is the most informative one, getting a MSE of:' % list_mse_train.index(min(list_mse_train)), min(list_mse_train)\n",
      "print '\\nThe most generalizable variable is', list_mse_test.index(min(list_mse_test)), 'getting a MSE of:', min(list_mse_test)\n",
      "print '\\nThe worst generalizable variable is', list_mse_test.index(max(list_mse_test)), 'getting a MSE of:', max(list_mse_test)"
     ],
     "language": "python",
     "metadata": {},
     "outputs": [
      {
       "output_type": "stream",
       "stream": "stdout",
       "text": [
        "\n",
        "\n",
        "Training and testing with each variable individually...\n",
        "\n",
        "The variable 5 is the most informative one, getting a MSE of: 15.9351479206\n",
        "\n",
        "The most generalizable variable is: 12 getting a MSE of: 43.3437235953\n",
        "\n",
        "The worst generalizable variable is: 0 getting a MSE of: 873.516873624\n"
       ]
      }
     ],
     "prompt_number": 10
    },
    {
     "cell_type": "code",
     "collapsed": false,
     "input": [
      "# Computing the coefficient of determination\n",
      "# R^2 = 1-FUV\n",
      "\n",
      "# First, it's needed to have the value of Fraction of Variance Unexplained (FUV)\n",
      "# FUV = MSE/VAR\n",
      "\n",
      "# In order to get the variance, it's needed to find the mean\n",
      "# VAR = (1/N)*sum((mean-y)^2)   mean = (1/N)*sum(y)\n",
      "\n",
      "mean = sum(output_test) / half\n",
      "\n",
      "VAR = sum((mean-output_test)**2) / half\n",
      "\n",
      "FUV = list_mse_test/VAR\n",
      "\n",
      "Coeff_Det = 1 - FUV\n",
      "\n",
      "print '\\n\\nThe most useful variable is %d giving a coefficient of determination (R^2) of: ' % Coeff_Det.argmax(axis=0), max(Coeff_Det)\n",
      "print '\\n'"
     ],
     "language": "python",
     "metadata": {},
     "outputs": [
      {
       "output_type": "stream",
       "stream": "stdout",
       "text": [
        "\n",
        "\n",
        "The most useful variable is 12 giving a coefficient of determination (R^2) of:  0.535370828363\n",
        "\n",
        "\n"
       ]
      }
     ],
     "prompt_number": 11
    },
    {
     "cell_type": "code",
     "collapsed": false,
     "input": [],
     "language": "python",
     "metadata": {},
     "outputs": []
    }
   ],
   "metadata": {}
  }
 ]
}
{
 "metadata": {
  "name": ""
 },
 "nbformat": 3,
 "nbformat_minor": 0,
 "worksheets": [
  {
   "cells": [
    {
     "cell_type": "code",
     "collapsed": false,
     "input": [
      "import numpy as np\n",
      "from scipy.linalg import lstsq as theta_calc\n",
      "\n",
      "data = np.loadtxt('housing.data')"
     ],
     "language": "python",
     "metadata": {},
     "outputs": [],
     "prompt_number": 2
    },
    {
     "cell_type": "code",
     "collapsed": false,
     "input": [
      "# MSE Function\n",
      "def MSE(y,X,theta):\t\n",
      "\tMSE_out = float(sum((y-dot(X, theta))**2) / len(y))\n",
      "\treturn MSE_out"
     ],
     "language": "python",
     "metadata": {},
     "outputs": [],
     "prompt_number": 28
    },
    {
     "cell_type": "code",
     "collapsed": false,
     "input": [
      "# Slicing\n",
      "y = data[:,-1]  #Outputs (labels)\n",
      "half = len(y)/2\n",
      "\n",
      "# Shortcuts\n",
      "dot = np.dot\t#Multiplier\n",
      "inv = np.linalg.inv #Inversor\n",
      "\n",
      "# Dummy features\n",
      "Bias = np.ones((506,1))\t#Bias term vector"
     ],
     "language": "python",
     "metadata": {},
     "outputs": [],
     "prompt_number": 3
    },
    {
     "cell_type": "code",
     "collapsed": false,
     "input": [
      "# Fitting the parameters: theta = (X'*X)^-1*X'*y\n",
      "# Computing the average of the target value\n",
      "theta = dot(dot(inv(dot(Bias.T, Bias)), Bias.T), y)\n",
      "\n",
      "# MSE = (1/N)*sum((y-X*theta)^2)\n",
      "# Computing MSE obtained using it as a constant prediction\n",
      "print 'MSE as a constant prediction: ' , MSE(y,Bias,theta)"
     ],
     "language": "python",
     "metadata": {},
     "outputs": [
      {
       "output_type": "stream",
       "stream": "stdout",
       "text": [
        "MSE as a constant prediction:  84.4195561562\n"
       ]
      }
     ],
     "prompt_number": 4
    },
    {
     "cell_type": "code",
     "collapsed": false,
     "input": [
      "# Splitting data in 50/50 for training and testing\n",
      "print 'Splitting...'\n",
      "\n",
      "#Training \n",
      "data_train = data[:half,:-1]\t#Training features\n",
      "output_train = data[:half,-1]\t#Training labels\n",
      "\n",
      "#Testing\n",
      "data_test = data[half:,:-1]\t\t#Testing features\n",
      "output_test = data[half:,-1]\t#Testing labels"
     ],
     "language": "python",
     "metadata": {},
     "outputs": [
      {
       "output_type": "stream",
       "stream": "stdout",
       "text": [
        "Splitting...\n"
       ]
      }
     ],
     "prompt_number": 5
    },
    {
     "cell_type": "code",
     "collapsed": false,
     "input": [
      "# Training a linear regressor model\n",
      "print '\\nTraining with each variable individually...'\n",
      "\n",
      "list_mse=[]\n",
      "for i in range(0,len(data[0])-1):\n",
      "    features = np.hstack((Bias[:half], data_train[:,i].reshape(half,1)))\t#Stack feature array (vector) with Bias term\n",
      "    theta = theta_calc(features,output_train)[0]\n",
      "    #MSE_out = sum((output_train-dot(features, theta))**2) / len(output_train)\n",
      "    MSE(output_train,features,theta)\n",
      "    list_mse.append(MSE_out)\n",
      "print list_mse\n",
      "print '\\nThe variable %d is the most informative one, getting a MSE of:' % list_mse.index(min(list_mse)), min(list_mse)"
     ],
     "language": "python",
     "metadata": {},
     "outputs": [
      {
       "output_type": "stream",
       "stream": "stdout",
       "text": [
        "\n",
        "Training with each variable individually...\n",
        "[34.380755775897242, 34.380755775897242, 34.380755775897242, 34.380755775897242, 34.380755775897242, 34.380755775897242, 34.380755775897242, 34.380755775897242, 34.380755775897242, 34.380755775897242, 34.380755775897242, 34.380755775897242, 34.380755775897242]\n",
        "\n",
        "The variable 0 is the most informative one, getting a MSE of: 34.3807557759\n"
       ]
      }
     ],
     "prompt_number": 33
    },
    {
     "cell_type": "code",
     "collapsed": false,
     "input": [],
     "language": "python",
     "metadata": {},
     "outputs": []
    }
   ],
   "metadata": {}
  }
 ]
}
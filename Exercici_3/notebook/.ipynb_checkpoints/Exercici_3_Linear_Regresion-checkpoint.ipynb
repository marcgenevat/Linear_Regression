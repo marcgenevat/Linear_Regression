{
 "metadata": {
  "name": ""
 },
 "nbformat": 3,
 "nbformat_minor": 0,
 "worksheets": [
  {
   "cells": [
    {
     "cell_type": "code",
     "collapsed": false,
     "input": [
      "import numpy as np\n",
      "from scipy.linalg import lstsq as theta_calc\n",
      "\n",
      "data = np.loadtxt('housing.data')\n",
      "\n",
      "# Slicing\n",
      "y = data[:,-1]\n",
      "\n",
      "print 'Data points', len(y)\n",
      "\n",
      "#print y.T"
     ],
     "language": "python",
     "metadata": {},
     "outputs": [
      {
       "output_type": "stream",
       "stream": "stdout",
       "text": [
        "Data points 506\n"
       ]
      }
     ],
     "prompt_number": 23
    },
    {
     "cell_type": "code",
     "collapsed": false,
     "input": [
      "# Shortcuts\n",
      "dot = np.dot\n",
      "inv = np.linalg.inv\n",
      "\n",
      "# Dummy features\n",
      "X = np.ones((506,1))\n",
      "\n",
      "# Fitting the parameters: theta = (X'*X)^-1*X'*y\n",
      "# Computing the average of the target value\n",
      "theta = dot(dot(inv(dot(X.T, X)), X.T), y)\n",
      "print theta"
     ],
     "language": "python",
     "metadata": {},
     "outputs": [
      {
       "output_type": "stream",
       "stream": "stdout",
       "text": [
        "[ 22.53280632]\n"
       ]
      }
     ],
     "prompt_number": 42
    },
    {
     "cell_type": "code",
     "collapsed": false,
     "input": [
      "# MSE = (1/N)*sum((y-X*theta)^2)\n",
      "# Computing MSE obtained using it as a constant prediction\n",
      "print sum((y-dot(X, theta))**2) / len(y)"
     ],
     "language": "python",
     "metadata": {},
     "outputs": [
      {
       "output_type": "stream",
       "stream": "stdout",
       "text": [
        "84.4195561562\n"
       ]
      }
     ],
     "prompt_number": 5
    },
    {
     "cell_type": "code",
     "collapsed": false,
     "input": [
      "# Splitting data in 50/50 for training and testing\n",
      "print 'Splitting...'\n",
      "\n",
      "half = len(y)/2\n",
      "\n",
      "#Training \n",
      "data_train = data[:half,:-1]\n",
      "#print 'Training points', len(data_train)\n",
      "\n",
      "input_train = data[:half,-1]\n",
      "\n",
      "#Testing\n",
      "data_test = data[half:,:-1]\n",
      "#print 'Testing points', len(data_test)\n",
      "\n",
      "input_test = data[half:,-1]"
     ],
     "language": "python",
     "metadata": {},
     "outputs": [
      {
       "output_type": "stream",
       "stream": "stdout",
       "text": [
        "Splitting...\n"
       ]
      }
     ],
     "prompt_number": 34
    },
    {
     "cell_type": "code",
     "collapsed": false,
     "input": [
      "variables = np.hstack((X[:half], data_train[:,0].reshape(len(data_train),1)))\n",
      "theta = lstsq(variables,input_train)[0]\n",
      "\n",
      "mse = (sum((input_train-dot(variables, theta))**2) / half)\n",
      "\n",
      "print mse"
     ],
     "language": "python",
     "metadata": {},
     "outputs": [
      {
       "output_type": "stream",
       "stream": "stdout",
       "text": [
        "253\n"
       ]
      }
     ],
     "prompt_number": 76
    },
    {
     "cell_type": "code",
     "collapsed": false,
     "input": [
      "print '\\nTraining with each variable individually...'\n",
      "\n",
      "list_mse=[]\n",
      "for i in range(0,len(data[0])-1):\n",
      "    variables = np.hstack((X[:half], data_train[:,i].reshape(half,1)))\n",
      "    theta = theta_calc(variables,input_train)[0]\n",
      "    #list_mse.append(calcular_mse(X,data_train[:,i]))\n",
      "    list_mse.append(sum((input_train-dot(variables, theta))**2) / half)\n",
      "\n",
      "print '\\nThe variable %d is the most informative one, getting a MSE of:' % list_mse.index(min(list_mse)), min(list_mse)"
     ],
     "language": "python",
     "metadata": {},
     "outputs": [
      {
       "output_type": "stream",
       "stream": "stdout",
       "text": [
        "\n",
        "Training with each variable individually...\n",
        "\n",
        "The variable 5 is the most informative one, getting a MSE of: 15.9351479206\n"
       ]
      }
     ],
     "prompt_number": 93
    },
    {
     "cell_type": "code",
     "collapsed": false,
     "input": [
      "# Testing the linear regressor model\n",
      "print '\\nTesting with each variable individually... \\n'\n",
      "\n",
      "list_mse=[]\n",
      "for i in range(0,len(data[0])-1):\n",
      "    variables = np.hstack((X[:half], data_test[:,i].reshape(half,1)))\n",
      "    list_mse.append(sum((input_test-dot(variables, theta))**2) / half)\n",
      "    \n",
      "print '\\nThe most generalizable variable is:', list_mse.index(min(list_mse)), 'getting a MSE of:', min(list_mse)\n",
      "print '\\nThe worst generalizable variable is:', list_mse.index(max(list_mse)), 'getting a MSE of:', max(list_mse)"
     ],
     "language": "python",
     "metadata": {},
     "outputs": [
      {
       "output_type": "stream",
       "stream": "stdout",
       "text": [
        "\n",
        "Testing with each variable individually... \n",
        "\n",
        "\n",
        "The most generalizable variable is: 12 getting a MSE of: 43.3437235953\n",
        "\n",
        "The worst generalizable variable is: 9 getting a MSE of: 226993.510592\n"
       ]
      }
     ],
     "prompt_number": 103
    },
    {
     "cell_type": "code",
     "collapsed": false,
     "input": [
      "# Computing the coefficient of determination\n",
      "# R^2 = 1-FUV\n",
      "\n",
      "# First, it's needed to have the value of Fraction of Variance Unexplained (FUV)\n",
      "# FUV = MSE/VAR\n",
      "\n",
      "# In order to get the variance, it's needed to find the mean\n",
      "# VAR = (1/N)*sum((mean-y)^2)   mean = (1/N)*sum(y)\n",
      "\n",
      "mean = sum(input_test) / half\n",
      "\n",
      "VAR = sum((mean-input_test)**2) / half\n",
      "\n",
      "FUV = list_mse/VAR\n",
      "\n",
      "Coeff_Det = 1 - FUV\n",
      "\n",
      "print 'The most useful variable is %d giving a coefficient of determination of:' % Coeff_Det.argmax(axis=0), max(Coeff_Det)"
     ],
     "language": "python",
     "metadata": {},
     "outputs": [
      {
       "output_type": "stream",
       "stream": "stdout",
       "text": [
        "The most useful variable is 12 giving a coefficient of determination of: 0.535370828363\n"
       ]
      }
     ],
     "prompt_number": 110
    }
   ],
   "metadata": {}
  }
 ]
}
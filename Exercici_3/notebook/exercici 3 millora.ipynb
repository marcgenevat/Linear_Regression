{
 "metadata": {
  "name": ""
 },
 "nbformat": 3,
 "nbformat_minor": 0,
 "worksheets": [
  {
   "cells": [
    {
     "cell_type": "code",
     "collapsed": false,
     "input": [
      "import numpy as np\n",
      "from scipy.linalg import lstsq as theta_calc\n",
      "\n",
      "data = np.loadtxt('housing.data')"
     ],
     "language": "python",
     "metadata": {},
     "outputs": [],
     "prompt_number": 1
    },
    {
     "cell_type": "code",
     "collapsed": false,
     "input": [
      "# MSE Function\n",
      "def MSE(y,X,theta):\t\n",
      "\tMSE = float(sum((y-dot(X, theta))**2) / len(y))\n",
      "\treturn MSE"
     ],
     "language": "python",
     "metadata": {},
     "outputs": [],
     "prompt_number": 2
    },
    {
     "cell_type": "code",
     "collapsed": false,
     "input": [
      "# Slicing\n",
      "y = data[:,-1]  #Outputs (labels)\n",
      "half = len(y)/2\n",
      "\n",
      "# Shortcuts\n",
      "dot = np.dot\t#Multiplier\n",
      "inv = np.linalg.inv #Inversor\n",
      "\n",
      "# Dummy features\n",
      "Bias = np.ones((506,1))\t#Bias term vector"
     ],
     "language": "python",
     "metadata": {},
     "outputs": [],
     "prompt_number": 3
    },
    {
     "cell_type": "code",
     "collapsed": false,
     "input": [
      "# Fitting the parameters: theta = (X'*X)^-1*X'*y\n",
      "# Computing the average of the target value\n",
      "theta = dot(dot(inv(dot(Bias.T, Bias)), Bias.T), y)\n",
      "\n",
      "# MSE = (1/N)*sum((y-X*theta)^2)\n",
      "# Computing MSE obtained using it as a constant prediction\n",
      "print 'MSE as a constant prediction: ' , MSE(y,Bias,theta)"
     ],
     "language": "python",
     "metadata": {},
     "outputs": [
      {
       "output_type": "stream",
       "stream": "stdout",
       "text": [
        "MSE as a constant prediction:  84.4195561562\n"
       ]
      }
     ],
     "prompt_number": 4
    },
    {
     "cell_type": "code",
     "collapsed": false,
     "input": [
      "# Splitting data in 50/50 for training and testing\n",
      "print 'Splitting...'\n",
      "\n",
      "#Training \n",
      "data_train = data[:half,:-1]\t#Training features\n",
      "output_train = data[:half,-1]\t#Training labels\n",
      "\n",
      "#Testing\n",
      "data_test = data[half:,:-1]\t\t#Testing features\n",
      "output_test = data[half:,-1]\t#Testing labels"
     ],
     "language": "python",
     "metadata": {},
     "outputs": [
      {
       "output_type": "stream",
       "stream": "stdout",
       "text": [
        "Splitting...\n"
       ]
      }
     ],
     "prompt_number": 49
    },
    {
     "cell_type": "code",
     "collapsed": false,
     "input": [
      "# Training and testing a linear regressor model\n",
      "print '\\n\\nTraining and testing with each variable individually...'\n",
      "\n",
      "list_mse_train=[]\n",
      "list_theta=[]\n",
      "list_mse_test=[]\n",
      "for i in range(0,len(data[0])-1):\n",
      "    train_features = np.hstack((Bias[:half], data_train[:,i].reshape(half,1)))\t#Stack feature array (vector) with Bias term\n",
      "    test_features = np.hstack((Bias[:half], data_test[:,i].reshape(half,1)))\t#Stack feature array (vector) with Bias term\n",
      "    list_theta.append(theta_calc(train_features,output_train)[0])\t\t\t#Save every theta for each different feature\t\n",
      "    list_mse_train.append(MSE(output_train,train_features,list_theta[i]))\t\t#Save every MSE for each theta to a list\n",
      "    list_mse_test.append(MSE(output_test,test_features,list_theta[i]))\t#Save every MSE for each theta to a list\n",
      "\n",
      "# Answering the Q3's questions\n",
      "print '\\nThe variable %d is the most informative one, getting a MSE of:' % list_mse_train.index(min(list_mse_train)), min(list_mse_train)\n",
      "print '\\nThe most generalizable variable is', list_mse_test.index(min(list_mse_test)), 'getting a MSE of:', min(list_mse_test)\n",
      "print '\\nThe worst generalizable variable is', list_mse_test.index(max(list_mse_test)), 'getting a MSE of:', max(list_mse_test)"
     ],
     "language": "python",
     "metadata": {},
     "outputs": [
      {
       "output_type": "stream",
       "stream": "stdout",
       "text": [
        "\n",
        "\n",
        "Training and testing with each variable individually...\n",
        "\n",
        "The variable 5 is the most informative one, getting a MSE of: 15.9351479206\n",
        "\n",
        "The most generalizable variable is: 12 getting a MSE of: 43.3437235953\n",
        "\n",
        "The worst generalizable variable is: 0 getting a MSE of: 873.516873624\n"
       ]
      }
     ],
     "prompt_number": 10
    },
    {
     "cell_type": "code",
     "collapsed": false,
     "input": [
      "# Computing the coefficient of determination\n",
      "# R^2 = 1-FUV\n",
      "\n",
      "# First, it's needed to have the value of Fraction of Variance Unexplained (FUV)\n",
      "# FUV = MSE/VAR\n",
      "\n",
      "# In order to get the variance, it's needed to find the mean\n",
      "# VAR = (1/N)*sum((mean-y)^2)   mean = (1/N)*sum(y)\n",
      "\n",
      "# Computing the coefficient of determination\n",
      "mean = sum(output_test) / half\t\t#mean = (1/N)*sum(y)\n",
      "VAR = sum((mean-output_test)**2) / half\t\t#VAR = (1/N)*sum((mean-y)^2)\n",
      "FUV = list_mse_test/VAR\t\t#Fraction of Variance Unexplained (FUV) -> FUV = MSE/VAR\n",
      "Coeff_Det_Q3 = 1 - FUV\t\t#Coefficient of determination -> R^2 = 1-FUV\n",
      "\n",
      "print '\\n\\nThe most useful variable is %d giving a coefficient of determination (R^2) of: ' % Coeff_Det_Q3.argmax(axis=0), max(Coeff_Det_Q3)\n",
      "print '\\n'"
     ],
     "language": "python",
     "metadata": {},
     "outputs": [
      {
       "output_type": "stream",
       "stream": "stdout",
       "text": [
        "\n",
        "\n",
        "The most useful variable is 12 giving a coefficient of determination (R^2) of:  0.535370828363\n",
        "\n",
        "\n"
       ]
      }
     ],
     "prompt_number": 55
    },
    {
     "cell_type": "code",
     "collapsed": false,
     "input": [
      "print '\\n#####Solving Q4#####'\n",
      "\n",
      "# Taking a training input with all the variables plus the bias term\n",
      "train_features = np.hstack((Bias[:half], data_train.reshape(half,data_train.shape[1]))) #Stack all features with Bias term (training)\n",
      "test_features = np.hstack((Bias[:half], data_test.reshape(half,data_test.shape[1]))) #Stack all features with Bias term (testing)\n",
      "theta = theta_calc(train_features,output_train)[0]\t#Calculating the model (theta)\n",
      "MSE_train = MSE(output_train,train_features,theta)\t#Calculating the error (training)\n",
      "MSE_test = MSE(output_test,test_features,theta)\t\t\t#Calculating the error (testing)\n",
      "\n",
      "print 'MSE_train:' , MSE_train\n",
      "print 'MSE_test:' , MSE_test"
     ],
     "language": "python",
     "metadata": {},
     "outputs": [
      {
       "output_type": "stream",
       "stream": "stdout",
       "text": [
        "\n",
        "#####Solving Q4#####\n",
        "MSE_train: 9.98751732546\n",
        "MSE_test: 303.436862927\n"
       ]
      }
     ],
     "prompt_number": 37
    },
    {
     "cell_type": "code",
     "collapsed": false,
     "input": [
      "mean = sum(output_test) / half\t\t#mean = (1/N)*sum(y)\n",
      "VAR = sum((mean-output_test)**2) / half\t\t#VAR = (1/N)*sum((mean-y)^2)\n",
      "FUV = MSE_test / VAR\t\t#Fraction of Variance Unexplained (FUV) -> FUV = MSE/VAR\n",
      "Coeff_Det_Q4 = 1 - FUV\t\t#Coefficient of determination -> R^2 = 1-FUV\n",
      "\n",
      "print '\\nThe resulting MSE in the training phase is:' , MSE_train\n",
      "print '\\nThe resulting MSE in the testing phase is:' , MSE_test\n",
      "print '\\nThe resulting Coefficient of determination is:' , Coeff_Det_Q4"
     ],
     "language": "python",
     "metadata": {},
     "outputs": [
      {
       "output_type": "stream",
       "stream": "stdout",
       "text": [
        "\n",
        "The resulting MSE in the training phase is: 9.98751732546\n",
        "\n",
        "The resulting MSE in the testing phase is: 303.436862927\n",
        "\n",
        "The resulting Coefficient of determination is: -2.25273434239\n"
       ]
      }
     ],
     "prompt_number": 53
    },
    {
     "cell_type": "code",
     "collapsed": false,
     "input": [
      "print '\\n\\nTrying over without the worst-performing variable found at the Q3...'\n",
      "\n",
      "# Removing the worst-performing variable in the features array\n",
      "data_train_Q4 = np.delete(data_train,Coeff_Det_Q3.argmin(axis=0),axis=1)\n",
      "data_test_Q4 = np.delete(data_test,Coeff_Det_Q3.argmin(axis=0),axis=1)\n",
      "\n",
      "# Starting over the experiment\n",
      "train_features = np.hstack((Bias[:half], data_train_Q4.reshape(half,data_train_Q4.shape[1])))\t#Stack all features with Bias term (training)\n",
      "test_features = np.hstack((Bias[:half], data_test_Q4.reshape(half,data_test_Q4.shape[1]))) #Stack all features with Bias term (testing)\n",
      "theta = theta_calc(train_features,output_train)[0]\t#Calculating the model (theta)\n",
      "MSE_train = MSE(output_train,train_features,theta)\t#Calculating the error (training)\n",
      "MSE_test = MSE(output_test,test_features,theta)\t\t\t#Calculating the error (testing)\n",
      "\n",
      "mean = sum(output_test) / half\t\t#mean = (1/N)*sum(y)\n",
      "VAR = sum((mean-output_test)**2) / half\t\t#VAR = (1/N)*sum((mean-y)^2)\n",
      "FUV = MSE_test / VAR\t\t#Fraction of Variance Unexplained (FUV) -> FUV = MSE/VAR\n",
      "Coeff_Det_Q4 = 1 - FUV\t\t#Coefficient of determination -> R^2 = 1-FUV\n",
      "\n",
      "print '\\nThe resulting MSE in the training phase is:' , MSE_train\n",
      "print '\\nThe resulting MSE in the testing phase is:' , MSE_test\n",
      "print '\\nThe resulting Coefficient of determination is:' , Coeff_Det_Q4"
     ],
     "language": "python",
     "metadata": {},
     "outputs": [
      {
       "output_type": "stream",
       "stream": "stdout",
       "text": [
        "\n",
        "\n",
        "Trying over without the worst-performing variable found at the Q3...\n",
        "\n",
        "The resulting MSE in the training phase is: 10.2162833878\n",
        "\n",
        "The resulting MSE in the testing phase is: 50.4903768903\n",
        "\n",
        "The resulting Coefficient of determination is: 0.458761268201\n"
       ]
      }
     ],
     "prompt_number": 58
    }
   ],
   "metadata": {}
  }
 ]
}
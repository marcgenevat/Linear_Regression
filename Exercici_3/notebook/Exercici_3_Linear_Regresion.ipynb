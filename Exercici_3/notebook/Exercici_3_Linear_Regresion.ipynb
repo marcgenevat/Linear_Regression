{
 "metadata": {
  "name": ""
 },
 "nbformat": 3,
 "nbformat_minor": 0,
 "worksheets": [
  {
   "cells": [
    {
     "cell_type": "code",
     "collapsed": false,
     "input": [
      "import numpy as np\n",
      "\n",
      "Data = np.loadtxt('housing.data')\n",
      "\n",
      "# Slicing\n",
      "y = Data[:,-1]\n",
      "\n",
      "print 'Data points', len(y)\n",
      "\n",
      "#print y.T"
     ],
     "language": "python",
     "metadata": {},
     "outputs": [
      {
       "output_type": "stream",
       "stream": "stdout",
       "text": [
        "Data points 506\n"
       ]
      }
     ],
     "prompt_number": 150
    },
    {
     "cell_type": "code",
     "collapsed": false,
     "input": [
      "# Shortcuts\n",
      "dot = np.dot\n",
      "inv = np.linalg.inv\n",
      "\n",
      "# Dummy features\n",
      "X = np.ones((506,1))\n",
      "\n",
      "# Fitting the parameters: theta = (X'*X)^-1*X'*y\n",
      "# Computing the average of the target value\n",
      "theta = dot(dot(inv(dot(X.T, X)), X.T), y)\n",
      "print theta"
     ],
     "language": "python",
     "metadata": {},
     "outputs": [
      {
       "output_type": "stream",
       "stream": "stdout",
       "text": [
        "[ 22.53280632]\n"
       ]
      }
     ],
     "prompt_number": 151
    },
    {
     "cell_type": "code",
     "collapsed": false,
     "input": [
      "# MSE = (1/N)*sum((y-X*theta)^2)\n",
      "# Computing MSE obtained using it as a constant prediction\n",
      "print sum((y-dot(X, theta))**2) / len(y)"
     ],
     "language": "python",
     "metadata": {},
     "outputs": [
      {
       "output_type": "stream",
       "stream": "stdout",
       "text": [
        "84.4195561562\n"
       ]
      }
     ],
     "prompt_number": 152
    },
    {
     "cell_type": "code",
     "collapsed": false,
     "input": [
      "# Splitting data in 50/50 for training and testing\n",
      "print 'Splitting...'\n",
      "#Training \n",
      "half = len(y)/2\n",
      "H = y[0:half]\n",
      "print 'Training points', len(H)\n",
      "#print H\n",
      "\n",
      "#Testing\n",
      "Z = y[half:len(y)]\n",
      "print 'Testing points', len(Z)\n",
      "#print Z"
     ],
     "language": "python",
     "metadata": {},
     "outputs": [
      {
       "output_type": "stream",
       "stream": "stdout",
       "text": [
        "Splitting...\n",
        "Training points 253\n",
        "Testing points 253\n"
       ]
      }
     ],
     "prompt_number": 153
    },
    {
     "cell_type": "code",
     "collapsed": false,
     "input": [
      "print '\\nTraining with each variable individually...'\n",
      "\n",
      "D = np.hstack((X[0:half], Data[0:half,0].reshape(len(H),1)))\n",
      "theta = lstsq(D,H)[0]\n",
      "MSE = sum((H-dot(D, theta))**2) / len(H)\n",
      "print \"MSE using variable 0 is: \", MSE\n",
      "\n",
      "MSE_min = MSE\n",
      "\n",
      "for number in range(1,len(Data[0])-1):\n",
      "    D = np.hstack((X[0:half], Data[0:half,number].reshape(len(H),1)))\n",
      "    theta = lstsq(D,H)[0]\n",
      "    MSE = sum((H-dot(D, theta))**2) / len(H)\n",
      "    print 'MSE using variable %d is: ' % (number), MSE\n",
      "    \n",
      "    if MSE_min > MSE:\n",
      "        MSE_min = MSE\n",
      "        num = number\n",
      "    \n",
      "print '\\nThe most informative variable is:', num, 'getting a MSE of:', MSE_min\n"
     ],
     "language": "python",
     "metadata": {},
     "outputs": [
      {
       "output_type": "stream",
       "stream": "stdout",
       "text": [
        "\n",
        "Training with each variable individually...\n",
        "MSE using variable 12 is:  65.7733954044\n",
        "MSE using variable 1 is:  62.1848641294\n",
        "MSE using variable 2 is:  60.2029462983\n",
        "MSE using variable 3 is:  69.2403754686\n",
        "MSE using variable 4 is:  61.5452790564\n",
        "MSE using variable 5 is:  15.9351479206\n",
        "MSE using variable 6 is:  61.4274959173\n",
        "MSE using variable 7 is:  68.0006230798\n",
        "MSE using variable 8 is:  69.1493593766\n",
        "MSE using variable 9 is:  65.435881603\n",
        "MSE using variable 10 is:  59.7509725826\n",
        "MSE using variable 11 is:  66.0407527683\n",
        "MSE using variable 12 is:  34.3807557759\n",
        "The most informative variable is: 5 getting a MSE of: 15.9351479206\n"
       ]
      }
     ],
     "prompt_number": 162
    },
    {
     "cell_type": "code",
     "collapsed": false,
     "input": [
      "# Testing the linear regressor model\n",
      "print '\\nTesting with each variable individually... \\n'\n",
      "\n",
      "D = np.hstack((X[0:half], Data[0:half,0].reshape(len(H),1)))\n",
      "theta = lstsq(D,H)[0]\n",
      "MSE = sum((Z-dot(D, theta))**2) / len(Z)\n",
      "print \"MSE using variable 0 is: \", MSE\n",
      "\n",
      "MSE_min = MSE\n",
      "MSE_max = MSE\n",
      "\n",
      "for number in range(1,len(Data[0])-1):\n",
      "    D = np.hstack((X[0:half], Data[0:half,number].reshape(len(H),1)))\n",
      "    theta = lstsq(D,H)[0]\n",
      "    MSE = sum((Z-dot(D, theta))**2) / len(Z)\n",
      "    print \"MSE using variable %d is: \" % (number), MSE\n",
      "    \n",
      "    if MSE_min > MSE:\n",
      "        MSE_min = MSE\n",
      "        num_min = number\n",
      "        \n",
      "    if MSE_max < MSE:\n",
      "        MSE_max = MSE\n",
      "        num_max = number\n",
      "        \n",
      "print '\\nThe most generalizable variable is:', num_min, 'getting a MSE of:', MSE_min\n",
      "print '\\nThe worst generalizable variable is:', num_max, 'getting a MSE of:', MSE_max"
     ],
     "language": "python",
     "metadata": {},
     "outputs": [
      {
       "output_type": "stream",
       "stream": "stdout",
       "text": [
        "\n",
        "Testing with each variable individually... \n",
        "\n",
        "MSE using variable 0 is:  101.529565746\n",
        "MSE using variable 1 is:  117.129920682\n",
        "MSE using variable 2 is:  96.8662030609\n",
        "MSE using variable 3 is:  106.146880617\n",
        "MSE using variable 4 is:  100.979567922\n",
        "MSE using variable 5 is:  175.706992874\n",
        "MSE using variable 6 is:  110.417053447\n",
        "MSE using variable 7 is:  101.632660744\n",
        "MSE using variable 8 is:  106.167645535\n",
        "MSE using variable 9 is:  104.928417315\n",
        "MSE using variable 10 is:  130.435703681\n",
        "MSE using variable 11 is:  106.376836409\n",
        "MSE using variable 12 is:  143.518666204\n",
        "\n",
        "The most generalizable variable is: 2 getting a MSE of: 96.8662030609\n",
        "\n",
        "The worst generalizable variable is: 5 getting a MSE of: 175.706992874\n"
       ]
      }
     ],
     "prompt_number": 165
    },
    {
     "cell_type": "code",
     "collapsed": false,
     "input": [
      "# Computing the coefficient of determination\n",
      "# R^2 = 1-FUV\n",
      "\n",
      "# First, it's needed to have the value of Fraction of Variance Unexplained (FUV)\n",
      "# FUV = MSE/VAR\n",
      "\n",
      "# In order to get the variance, it's needed to find the mean\n",
      "# VAR = (1/N)*sum((mean-y)^2)   mean = (1/N)*sum(y)\n",
      "\n",
      "mean = sum(Z) / len(Z)\n",
      "\n",
      "VAR = sum((mean-Z)**2) / len(Z)\n",
      "\n",
      "FUV = MSE_min/VAR\n",
      "\n",
      "Coeff_Det = 1 - FUV\n",
      "print 'The best coefficient of determination is: ', Coeff_Det\n",
      "\n",
      "FUV = MSE_max/VAR\n",
      "\n",
      "Coeff_Det = 1 - FUV\n",
      "print 'The worst coefficient of determination is: ', Coeff_Det"
     ],
     "language": "python",
     "metadata": {},
     "outputs": [
      {
       "output_type": "stream",
       "stream": "stdout",
       "text": [
        "The best coefficient of determination is:  -0.0383709555741\n",
        "The worst coefficient of determination is:  -0.88351594598\n"
       ]
      }
     ],
     "prompt_number": 173
    }
   ],
   "metadata": {}
  }
 ]
}